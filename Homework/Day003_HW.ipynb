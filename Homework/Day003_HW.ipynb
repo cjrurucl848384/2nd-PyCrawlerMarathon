{
 "cells": [
  {
   "cell_type": "markdown",
   "metadata": {},
   "source": [
    "# Python 下載XML檔案與解析\n",
    "\n",
    "\n",
    "* 了解 xml 檔案格式與內容\n",
    "* 能夠利用套件存取 xml 格式的檔案\n"
   ]
  },
  {
   "cell_type": "markdown",
   "metadata": {},
   "source": [
    "## 作業目標\n",
    "\n",
    "* 比較一下範例檔案中的「File I/O」與「xmltodict」讀出來的內容有什麼差異\n",
    "\n",
    "* 根據範例檔案的結果：\n",
    "    1. 請問高雄市有多少地區有溫度資料？\n",
    "    2. 請取出每一個地區所記錄的第一個時間點跟溫度\n",
    "    3. 請取出第一個地區所記錄的每一個時間點跟溫度"
   ]
  },
  {
   "cell_type": "markdown",
   "metadata": {},
   "source": [
    "### 比較一下範例檔案中的「File I/O」與「xmltodict」讀出來的內容有什麼差異\n"
   ]
  },
  {
   "cell_type": "code",
   "execution_count": null,
   "metadata": {},
   "outputs": [],
   "source": [
    "File I/O:\n",
    "    會將檔案中完整的讀出成字串的形式，要尋找特定內容較困難\n",
    "xmltodict:\n",
    "    會將檔案中的內容讀取成字典形式，可利用標籤迅速的找到特定內容。"
   ]
  },
  {
   "cell_type": "markdown",
   "metadata": {},
   "source": [
    "### 根據範例檔案的結果：\n",
    "\n",
    "1. 請問高雄市有多少地區有溫度資料？\n",
    "2. 請取出每一個地區所記錄的第一個時間點跟溫度\n",
    "3. 請取出第一個地區所記錄的每一個時間點跟溫度"
   ]
  },
  {
   "cell_type": "code",
   "execution_count": 3,
   "metadata": {},
   "outputs": [
    {
     "name": "stdout",
     "output_type": "stream",
     "text": [
      "高雄市有38個地區有溫度資料\n"
     ]
    }
   ],
   "source": [
    "# 1. 請問高雄市有多少地區有溫度資料？\n",
    "import xmltodict\n",
    "with open(\"./Data/64_72hr_CH.xml\",encoding='utf-8') as file:\n",
    "    doc=dict(xmltodict.parse(file.read()))\n",
    "location=doc[\"cwbopendata\"][\"dataset\"][\"locations\"]['location']\n",
    "locationQty=len(location)\n",
    "tempQty=0\n",
    "for i in range(locationQty):\n",
    "    if location[i]['weatherElement'][0]['description']==\"溫度\":\n",
    "        tempQty+=1\n",
    "print(\"高雄市有\"+str(tempQty)+\"個地區有溫度資料\")"
   ]
  },
  {
   "cell_type": "code",
   "execution_count": 13,
   "metadata": {},
   "outputs": [
    {
     "name": "stdout",
     "output_type": "stream",
     "text": [
      "2020-02-28T18:00:00+08:00\n",
      "25\n",
      "2020-02-28T18:00:00+08:00\n",
      "25\n",
      "2020-02-28T18:00:00+08:00\n",
      "24\n",
      "2020-02-28T18:00:00+08:00\n",
      "25\n",
      "2020-02-28T18:00:00+08:00\n",
      "25\n",
      "2020-02-28T18:00:00+08:00\n",
      "25\n",
      "2020-02-28T18:00:00+08:00\n",
      "25\n",
      "2020-02-28T18:00:00+08:00\n",
      "25\n",
      "2020-02-28T18:00:00+08:00\n",
      "25\n",
      "2020-02-28T18:00:00+08:00\n",
      "25\n",
      "2020-02-28T18:00:00+08:00\n",
      "26\n",
      "2020-02-28T18:00:00+08:00\n",
      "26\n",
      "2020-02-28T18:00:00+08:00\n",
      "25\n",
      "2020-02-28T18:00:00+08:00\n",
      "26\n",
      "2020-02-28T18:00:00+08:00\n",
      "26\n",
      "2020-02-28T18:00:00+08:00\n",
      "26\n",
      "2020-02-28T18:00:00+08:00\n",
      "25\n",
      "2020-02-28T18:00:00+08:00\n",
      "26\n",
      "2020-02-28T18:00:00+08:00\n",
      "25\n",
      "2020-02-28T18:00:00+08:00\n",
      "25\n",
      "2020-02-28T18:00:00+08:00\n",
      "25\n",
      "2020-02-28T18:00:00+08:00\n",
      "24\n",
      "2020-02-28T18:00:00+08:00\n",
      "24\n",
      "2020-02-28T18:00:00+08:00\n",
      "24\n",
      "2020-02-28T18:00:00+08:00\n",
      "24\n",
      "2020-02-28T18:00:00+08:00\n",
      "24\n",
      "2020-02-28T18:00:00+08:00\n",
      "24\n",
      "2020-02-28T18:00:00+08:00\n",
      "24\n",
      "2020-02-28T18:00:00+08:00\n",
      "24\n",
      "2020-02-28T18:00:00+08:00\n",
      "24\n",
      "2020-02-28T18:00:00+08:00\n",
      "26\n",
      "2020-02-28T18:00:00+08:00\n",
      "22\n",
      "2020-02-28T18:00:00+08:00\n",
      "22\n",
      "2020-02-28T18:00:00+08:00\n",
      "24\n",
      "2020-02-28T18:00:00+08:00\n",
      "24\n",
      "2020-02-28T18:00:00+08:00\n",
      "23\n",
      "2020-02-28T18:00:00+08:00\n",
      "20\n",
      "2020-02-28T18:00:00+08:00\n",
      "18\n"
     ]
    }
   ],
   "source": [
    "# 2. 請取出每一個地區所記錄的第一個時間點跟溫度\n",
    "\n",
    "for i in range(locationQty):\n",
    "    print(location[i]['weatherElement'][0]['time'][0]['dataTime']) #time\n",
    "    print(location[i]['weatherElement'][0]['time'][0]['elementValue']['value'])\n"
   ]
  },
  {
   "cell_type": "code",
   "execution_count": 19,
   "metadata": {},
   "outputs": [
    {
     "name": "stdout",
     "output_type": "stream",
     "text": [
      "2020-02-28T18:00:00+08:00\n",
      "25\n",
      "2020-02-28T21:00:00+08:00\n",
      "24\n",
      "2020-02-29T00:00:00+08:00\n",
      "23\n",
      "2020-02-29T03:00:00+08:00\n",
      "22\n",
      "2020-02-29T06:00:00+08:00\n",
      "22\n",
      "2020-02-29T09:00:00+08:00\n",
      "23\n",
      "2020-02-29T12:00:00+08:00\n",
      "28\n",
      "2020-02-29T15:00:00+08:00\n",
      "28\n",
      "2020-02-29T18:00:00+08:00\n",
      "27\n",
      "2020-02-29T21:00:00+08:00\n",
      "26\n",
      "2020-03-01T00:00:00+08:00\n",
      "24\n",
      "2020-03-01T03:00:00+08:00\n",
      "24\n",
      "2020-03-01T06:00:00+08:00\n",
      "23\n",
      "2020-03-01T09:00:00+08:00\n",
      "25\n",
      "2020-03-01T12:00:00+08:00\n",
      "28\n",
      "2020-03-01T15:00:00+08:00\n",
      "28\n",
      "2020-03-01T18:00:00+08:00\n",
      "26\n",
      "2020-03-01T21:00:00+08:00\n",
      "25\n",
      "2020-03-02T00:00:00+08:00\n",
      "24\n",
      "2020-03-02T03:00:00+08:00\n",
      "23\n",
      "2020-03-02T06:00:00+08:00\n",
      "22\n",
      "2020-03-02T09:00:00+08:00\n",
      "24\n",
      "2020-03-02T12:00:00+08:00\n",
      "26\n",
      "2020-03-02T15:00:00+08:00\n",
      "27\n"
     ]
    }
   ],
   "source": [
    "# 3. 請取出第一個地區所記錄的每一個時間點跟溫度\n",
    "timePoint=len(location[0]['weatherElement'][0]['time'])\n",
    "for i in range(timePoint):\n",
    "    print(location[0]['weatherElement'][0]['time'][i][\"dataTime\"])\n",
    "    print(location[0]['weatherElement'][0]['time'][i]['elementValue']['value'])"
   ]
  },
  {
   "cell_type": "code",
   "execution_count": null,
   "metadata": {},
   "outputs": [],
   "source": []
  }
 ],
 "metadata": {
  "kernelspec": {
   "display_name": "Python 3",
   "language": "python",
   "name": "python3"
  },
  "language_info": {
   "codemirror_mode": {
    "name": "ipython",
    "version": 3
   },
   "file_extension": ".py",
   "mimetype": "text/x-python",
   "name": "python",
   "nbconvert_exporter": "python",
   "pygments_lexer": "ipython3",
   "version": "3.7.4"
  }
 },
 "nbformat": 4,
 "nbformat_minor": 2
}
