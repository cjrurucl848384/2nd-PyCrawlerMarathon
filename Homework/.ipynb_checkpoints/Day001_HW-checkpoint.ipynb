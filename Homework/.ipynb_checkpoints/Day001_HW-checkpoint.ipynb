{
 "cells": [
  {
   "cell_type": "code",
   "execution_count": 36,
   "metadata": {},
   "outputs": [],
   "source": [
    "from urllib.request import urlretrieve\n",
    "import os"
   ]
  },
  {
   "cell_type": "code",
   "execution_count": 37,
   "metadata": {},
   "outputs": [
    {
     "data": {
      "text/plain": [
       "('../Data/Homework.txt', <http.client.HTTPMessage at 0x5521b48>)"
      ]
     },
     "execution_count": 37,
     "metadata": {},
     "output_type": "execute_result"
    }
   ],
   "source": [
    "url=\"https://www.w3.org/TR/PNG/iso_8859-1.txt\"\n",
    "urlretrieve(url,\"../Data/Homework.txt\")"
   ]
  },
  {
   "cell_type": "code",
   "execution_count": 38,
   "metadata": {},
   "outputs": [
    {
     "name": "stdout",
     "output_type": "stream",
     "text": [
      "成功下載Homework.txt\n"
     ]
    }
   ],
   "source": [
    "dirs=os.listdir(\"../Data/\")\n",
    "if \"Homework.txt\" in dirs:\n",
    "    print(\"成功下載Homework.txt\")\n",
    "else:\n",
    "    print(\"尚未下載Homework.txt\")"
   ]
  },
  {
   "cell_type": "code",
   "execution_count": 39,
   "metadata": {},
   "outputs": [],
   "source": [
    "with open(\"../Data/Homework.txt\",\"w\") as hf:\n",
    "    hf.write(\"Holle World\")"
   ]
  },
  {
   "cell_type": "code",
   "execution_count": 40,
   "metadata": {},
   "outputs": [
    {
     "name": "stdout",
     "output_type": "stream",
     "text": [
      "Homework.txt 檔案字數與 Hello World 字數相同\n"
     ]
    }
   ],
   "source": [
    "with open(\"../Data/Homework.txt\",\"r\") as hf:\n",
    "    hfContect=hf.read()\n",
    "if len(hfContect) == len(\"Hello World\"):\n",
    "    print(\"Homework.txt 檔案字數與 Hello World 字數相同\")\n",
    "else:\n",
    "    print(\"Homework.txt 檔案字數與 Hello World 字數不同\")"
   ]
  },
  {
   "cell_type": "code",
   "execution_count": null,
   "metadata": {},
   "outputs": [],
   "source": []
  }
 ],
 "metadata": {
  "celltoolbar": "Raw Cell Format",
  "kernelspec": {
   "display_name": "Python 3",
   "language": "python",
   "name": "python3"
  },
  "language_info": {
   "codemirror_mode": {
    "name": "ipython",
    "version": 3
   },
   "file_extension": ".py",
   "mimetype": "text/x-python",
   "name": "python",
   "nbconvert_exporter": "python",
   "pygments_lexer": "ipython3",
   "version": "3.7.4"
  }
 },
 "nbformat": 4,
 "nbformat_minor": 2
}
